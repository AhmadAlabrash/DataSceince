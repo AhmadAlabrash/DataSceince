{
  "nbformat": 4,
  "nbformat_minor": 0,
  "metadata": {
    "colab": {
      "provenance": [],
      "collapsed_sections": [],
      "authorship_tag": "ABX9TyOCAaiXGSP1uAomb0IMtL1Q",
      "include_colab_link": true
    },
    "kernelspec": {
      "name": "python3",
      "display_name": "Python 3"
    },
    "language_info": {
      "name": "python"
    }
  },
  "cells": [
    {
      "cell_type": "markdown",
      "metadata": {
        "id": "view-in-github",
        "colab_type": "text"
      },
      "source": [
        "<a href=\"https://colab.research.google.com/github/AhmadAlabrash/DataSceince/blob/main/web_scrapng.ipynb\" target=\"_parent\"><img src=\"https://colab.research.google.com/assets/colab-badge.svg\" alt=\"Open In Colab\"/></a>"
      ]
    },
    {
      "cell_type": "code",
      "source": [
        "pip install scrapy"
      ],
      "metadata": {
        "id": "no4xQ34xCcGP"
      },
      "execution_count": null,
      "outputs": []
    },
    {
      "cell_type": "code",
      "source": [
        "import requests\n",
        "\n",
        "url = \"https://en.wikipedia.org/w/index.php?go=Go\"\n",
        "\n",
        "search = input(\"Enter search key name:\") \n",
        "\n",
        "response = requests.get(url, params = {\"search\":search})\n",
        "\n",
        "print(response.text)"
      ],
      "metadata": {
        "id": "1vQeTxzgpMhX"
      },
      "execution_count": null,
      "outputs": []
    },
    {
      "cell_type": "code",
      "source": [
        "import scrapy \n",
        "from bs4 import BeautifulSoup\n",
        "\n",
        "url = 'https://ar.wikipedia.org/wiki/%D8%B1%D8%A7%D9%84%D9%81_%D9%88%D8%A7%D9%84%D8%AF%D9%88_%D8%A5%D9%85%D8%B1%D8%B3%D9%88%D9%86'\n",
        "req = requests.get(url,'body')\n",
        "a=req.text\n",
        "soup = BeautifulSoup(a, 'html.parser')\n",
        "soup =soup.find('h1')\n",
        "print(soup)"
      ],
      "metadata": {
        "colab": {
          "base_uri": "https://localhost:8080/"
        },
        "id": "H13suaBWHfCc",
        "outputId": "27547789-0057-499d-9ed1-19adeff01c80"
      },
      "execution_count": 46,
      "outputs": [
        {
          "output_type": "stream",
          "name": "stdout",
          "text": [
            "<h1 class=\"firstHeading mw-first-heading\" id=\"firstHeading\"><span class=\"mw-page-title-main\">رالف والدو إمرسون</span></h1>\n"
          ]
        }
      ]
    },
    {
      "cell_type": "code",
      "source": [
        "import re\n",
        "req = requests.get('https://en.wikipedia.org/wiki/Immanuel_Kant').text\n",
        "a= re.search('\\d',req)\n",
        "print(a)\n",
        "\n",
        "'''\n",
        "website for trining :  https://pythex.org/\n",
        "\n",
        "\\d   \\D\n",
        "\\w   \\w\n",
        "\\s   \\S\n",
        "\n",
        "if we want to get specific count of words or numbers {4}  to get any count {1,}\n",
        "[\\d]{2}\n",
        "\n",
        "to get emails\n",
        "[A-z0-9]{1,}\\@[A-z0-9]{1,}\\.[A-z0-9]{1,}\n",
        "\n",
        "to get specific chart put before it \\      \n",
        "\\@\n",
        "\n",
        "to get all charts and numbers put [A-z0-9]\n",
        "\n",
        "'''"
      ],
      "metadata": {
        "colab": {
          "base_uri": "https://localhost:8080/",
          "height": 70
        },
        "id": "RpgcgSSutZ0N",
        "outputId": "c7f0bba9-fd93-433c-d9ac-1642119a9b5d"
      },
      "execution_count": 49,
      "outputs": [
        {
          "output_type": "stream",
          "name": "stdout",
          "text": [
            "<re.Match object; span=(89, 90), match='8'>\n"
          ]
        },
        {
          "output_type": "execute_result",
          "data": {
            "text/plain": [
              "'\\n\\\\d   \\\\D\\n\\\\w   \\\\w\\n\\\\s   \\\\S\\n\\nif we want to get specific count of words or numbers {4}  to get any count {1,}\\n[\\\\d]{2}\\n\\nto get emails\\n[A-z0-9]{1,}\\\\@[A-z0-9]{1,}\\\\.[A-z0-9]{1,}\\n\\nto get specific chart put before it \\\\      \\n\\\\@\\n\\nto get all charts and numbers put [A-z0-9]\\n\\n'"
            ],
            "application/vnd.google.colaboratory.intrinsic+json": {
              "type": "string"
            }
          },
          "metadata": {},
          "execution_count": 49
        }
      ]
    },
    {
      "cell_type": "code",
      "source": [
        "from googlesearch import search\n",
        "\n",
        "ser = search('megan fox',stop=20)\n",
        "for i in ser :\n",
        "  print(i)                           "
      ],
      "metadata": {
        "colab": {
          "base_uri": "https://localhost:8080/"
        },
        "id": "98-Ga2Aj6atL",
        "outputId": "47ec7e2a-fe87-4548-c4af-a917ba594084"
      },
      "execution_count": 53,
      "outputs": [
        {
          "output_type": "stream",
          "name": "stdout",
          "text": [
            "https://www.instagram.com/meganfox/?hl=en\n",
            "https://news.yahoo.com/megan-fox-wears-sexy-halter-144400943.html\n",
            "https://www.dailymail.co.uk/tvshowbiz/article-11392547/Megan-Fox-puts-busty-display-fianc-MGK-step-lunch-Nobu-Malibu.html\n",
            "https://www.elle.com/uk/beauty/hair/a41851932/megan-fox-caramel-blonde-hair/\n",
            "https://www.imdb.com/name/nm1083271/\n",
            "https://en.wikipedia.org/wiki/Megan_Fox\n",
            "https://en.wikipedia.org/wiki/Megan_Fox#Early_life\n",
            "https://en.wikipedia.org/wiki/Megan_Fox#Career\n",
            "https://en.wikipedia.org/wiki/Megan_Fox#Public_image\n",
            "https://en.wikipedia.org/wiki/Megan_Fox#Filmography\n",
            "https://people.com/tag/megan-fox/\n",
            "https://twitter.com/MeganFoxWriter?ref_src=twsrc%5Egoogle%7Ctwcamp%5Eserp%7Ctwgr%5Eauthor\n",
            "https://twitter.com/MeganFoxWriter/status/1589019421775134721?ref_src=twsrc%5Egoogle%7Ctwcamp%5Eserp%7Ctwgr%5Etweet\n",
            "https://twitter.com/MeganFoxWriter/status/1588987419340472320?ref_src=twsrc%5Egoogle%7Ctwcamp%5Eserp%7Ctwgr%5Etweet\n",
            "https://twitter.com/MeganFoxWriter/status/1589078929226158081?ref_src=twsrc%5Egoogle%7Ctwcamp%5Eserp%7Ctwgr%5Etweet\n",
            "https://twitter.com/MeganFoxWriter/status/1588915571961122816?ref_src=twsrc%5Egoogle%7Ctwcamp%5Eserp%7Ctwgr%5Etweet\n",
            "https://www.foxnews.com/category/person/megan-fox\n",
            "https://www.eonline.com/news/megan_fox\n",
            "https://www.rottentomatoes.com/celebrity/megan_fox\n",
            "https://www.popsugar.com/Megan-Fox\n"
          ]
        }
      ]
    }
  ]
}