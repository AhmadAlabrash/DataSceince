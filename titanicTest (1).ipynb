{
  "nbformat": 4,
  "nbformat_minor": 0,
  "metadata": {
    "colab": {
      "provenance": [],
      "collapsed_sections": []
    },
    "kernelspec": {
      "name": "python3",
      "display_name": "Python 3"
    },
    "language_info": {
      "name": "python"
    }
  },
  "cells": [
    {
      "cell_type": "code",
      "execution_count": 1,
      "metadata": {
        "id": "dTQSf7rbKP6l"
      },
      "outputs": [],
      "source": [
        "import numpy as np\n",
        "import pandas as pd"
      ]
    },
    {
      "cell_type": "code",
      "source": [
        "def custom_heuristic():\n",
        "   \n",
        " predictions = {'id':[], \n",
        "                'pa':[]\n",
        "                }\n",
        " df = pd.read_csv('/content/titanic_data.csv')\n",
        " for passenger_index, passenger in df.iterrows():\n",
        "        predictions['id'].append(passenger_index)\n",
        "        if passenger['Pclass'] == 1 : \n",
        "          predictions['pa'].append(1)\n",
        "        elif passenger['Age'] < 20.0 :\n",
        "          predictions['pa'].append(1)\n",
        "        elif passenger['Sex'] =='female' :\n",
        "          predictions['pa'].append(1)\n",
        "        else :\n",
        "          predictions['pa'].append(0)\n",
        "\n",
        "\n",
        "      \n",
        " return predictions\n",
        " predictions =custom_heuristic()"
      ],
      "metadata": {
        "id": "GCZ84gWJKZ0F"
      },
      "execution_count": 26,
      "outputs": []
    },
    {
      "cell_type": "code",
      "source": [
        "df = pd.read_csv('/content/titanic_data.csv')\n",
        "df.Survived"
      ],
      "metadata": {
        "id": "2T3B1kB0Pr5t"
      },
      "execution_count": null,
      "outputs": []
    },
    {
      "cell_type": "code",
      "source": [
        " predictions =custom_heuristic()\n",
        " predictions['pa']"
      ],
      "metadata": {
        "id": "-kVL2NBiNit9"
      },
      "execution_count": null,
      "outputs": []
    },
    {
      "cell_type": "code",
      "source": [
        "result = []\n",
        "\n",
        "for i in range(889):\n",
        "  \n",
        "  if  df['Survived'][i] == predictions['pa'][i] :\n",
        "    result.append(1)\n",
        "  else :                 \n",
        "    result.append(0)\n",
        "\n",
        "  "
      ],
      "metadata": {
        "id": "7uPJ2DJ6PTM6"
      },
      "execution_count": 46,
      "outputs": []
    },
    {
      "cell_type": "code",
      "source": [
        "np.sum(result)\n",
        "629 /889"
      ],
      "metadata": {
        "id": "MMcWXMwmS_P9"
      },
      "execution_count": null,
      "outputs": []
    }
  ]
}